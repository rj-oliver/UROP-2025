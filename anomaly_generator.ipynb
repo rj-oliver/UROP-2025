{
 "cells": [
  {
   "cell_type": "code",
   "execution_count": 8,
   "metadata": {},
   "outputs": [],
   "source": [
    "import numpy as np\n",
    "historical_avgs = np.load('historical_avgs.npy')\n",
    "historical_global_mean = np.load('historical_global_mean.npy')\n",
    "\n",
    "def calculate_anomaly(r):\n",
    "    \"\"\"\n",
    "    Calculates the anomaly data (difference between averages for a given model and PiControl averaged scenario).\n",
    "    Inputs the number of averaged forcing scenarios used to create raw temperature data; saves local annual anomalies and annual\n",
    "    global mean anomaly as .npz file for each SSP model as well as the historical data.\n",
    "    \"\"\"\n",
    "    for model in [\"119\", \"126\", \"245\", \"370\", \"585\"]:\n",
    "        year_avgs = np.load(str(r)+'r_ssp'+model+'_ensemble_year_avgs.npz')\n",
    "        global_mean = np.load(str(r)+'r_ssp'+model+'_ensemble_global_mean.npz')\n",
    "        anomaly_year_avgs={}\n",
    "        anomaly_global_mean = {}\n",
    "        for year in year_avgs.keys():\n",
    "            anomaly_year_avgs[year] = year_avgs[year] - historical_avgs\n",
    "            anomaly_global_mean[year] = global_mean[year] - historical_global_mean[0]\n",
    "        np.savez(str(r)+'r_anomaly_ssp'+model+'_ensemble_year_avgs.npz', **anomaly_year_avgs)\n",
    "        np.savez(str(r)+'r_anomaly_ssp+'+model+'_ensemble_global_mean.npz', **anomaly_global_mean)\n",
    "        \n",
    "    year_avgs = np.load(str(r)+'r_historical_model_ensemble_year_avgs.npz')\n",
    "    global_mean = np.load(str(r)+'r_historical_model_ensemble_global_mean.npz')\n",
    "    anomaly_year_avgs={}\n",
    "    anomaly_global_mean = {}\n",
    "    for year in year_avgs.keys():\n",
    "        anomaly_year_avgs[year] = year_avgs[year] - historical_avgs\n",
    "        anomaly_global_mean[year] = global_mean[year] - historical_global_mean[0]\n",
    "    np.savez(str(r)+'r_anomaly_historical_model_ensemble_year_avgs.npz', **anomaly_year_avgs)\n",
    "    np.savez(str(r)+'r_anomaly_historical_model_ensemble_global_mean.npz', **anomaly_global_mean)\n",
    "    \n",
    "if __name__ == \"__main__\":\n",
    "    calculate_anomaly(50)\n"
   ]
  },
  {
   "cell_type": "code",
   "execution_count": 7,
   "metadata": {},
   "outputs": [
    {
     "name": "stdout",
     "output_type": "stream",
     "text": [
      "[[224.8383259  224.82720588 224.82372799 ... 224.88722825 224.86665513\n",
      "  224.85068581]\n",
      " [226.94581651 226.85376066 226.77756591 ... 227.30323977 227.16658917\n",
      "  227.05098727]\n",
      " [228.02435397 227.89837775 227.8220944  ... 228.63947397 228.38498969\n",
      "  228.17607291]\n",
      " ...\n",
      " [258.47335237 258.58968803 258.70069448 ... 258.09642746 258.22522331\n",
      "  258.35102402]\n",
      " [257.92147682 257.94875688 257.97217975 ... 257.84219459 257.86840616\n",
      "  257.89580968]\n",
      " [257.39650519 257.39701013 257.39901797 ... 257.39310551 257.39364788\n",
      "  257.39729524]]\n"
     ]
    }
   ],
   "source": [
    "\n"
   ]
  },
  {
   "cell_type": "code",
   "execution_count": null,
   "metadata": {},
   "outputs": [],
   "source": []
  }
 ],
 "metadata": {
  "kernelspec": {
   "display_name": "Python 3",
   "language": "python",
   "name": "python3"
  },
  "language_info": {
   "codemirror_mode": {
    "name": "ipython",
    "version": 3
   },
   "file_extension": ".py",
   "mimetype": "text/x-python",
   "name": "python",
   "nbconvert_exporter": "python",
   "pygments_lexer": "ipython3",
   "version": "3.8.5"
  }
 },
 "nbformat": 4,
 "nbformat_minor": 4
}

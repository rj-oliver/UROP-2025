{
 "cells": [
  {
   "cell_type": "code",
   "execution_count": 1,
   "metadata": {},
   "outputs": [],
   "source": [
    "import numpy as np\n",
    "historical_avgs = np.load('historical_avgs.npy')\n",
    "historical_global_mean = np.load('historical_global_mean.npy')\n",
    "for r in range(1,11):\n",
    "    anomaly_year_avgs={}\n",
    "    anomaly_global_mean = {}\n",
    "    year_avgs = np.load('ssp119_r' + str(r) + 'i1p1f1_year_avgs.npz')\n",
    "    global_mean = np.load('ssp119_r' + str(r) + 'i1p1f1_global_means.npz')\n",
    "    for year in year_avgs.keys():\n",
    "        anomaly_year_avgs[year] = year_avgs[year] - historical_avgs\n",
    "        anomaly_global_mean[year] = global_mean[year] - historical_global_mean[0]\n",
    "    np.savez('anomaly_ssp119_r' + str(r) + 'i1p1f1_year_avgs.npz', **anomaly_year_avgs)\n",
    "    np.savez('anomaly_ssp119_r' + str(r) + 'i1p1f1_global_means.npz', **anomaly_global_mean)\n",
    "    \n",
    "\n",
    "year_avgs = np.load('ssp119_ensemble_year_avgs.npz')\n",
    "global_mean = np.load('ssp119_ensemble_global_mean.npz')\n",
    "anomaly_year_avgs={}\n",
    "anomaly_global_mean = {}\n",
    "for year in year_avgs.keys():\n",
    "    anomaly_year_avgs[year] = year_avgs[year] - historical_avgs\n",
    "    anomaly_global_mean[year] = global_mean[year] - historical_global_mean[0]\n",
    "np.savez('anomaly_ssp119_ensemble_year_avgs.npz', **anomaly_year_avgs)\n",
    "np.savez('anomaly_ssp119_ensemble_global_mean.npz', **anomaly_global_mean)"
   ]
  },
  {
   "cell_type": "code",
   "execution_count": null,
   "metadata": {},
   "outputs": [],
   "source": [
    "import numpy as np\n",
    "gm1 = np.load('anomaly_historical_model_ensemble_global_mean.npz')\n",
    "gm2 = np.load('anomaly_ssp585_ensemble_global_mean.npz')\n",
    "\n",
    "lm1 = np.load('anomaly_historical_model_ensemble_year_avgs.npz')\n",
    "lm2 = np.load('anomaly_ssp585_ensemble_year_avgs.npz')\n",
    "\n",
    "gm_lm = []\n",
    "\n",
    "for year, gm in gm1.values():\n",
    "    if int(year) % 5 == 0:\n",
    "        gm_lm.append((gm, lm1[year]))\n",
    "for year, gm in gm2.values():\n",
    "    if int(year) % 5 == 0\n",
    "    gm_lm.append((gm, lm2[year]))\n",
    "\n",
    "gm_lm.sort()\n",
    "gm_lm_np = np.array(gm_lm)\n",
    "np.save('global_to_local.npy', gm_lm_np)\n",
    "\n"
   ]
  }
 ],
 "metadata": {
  "kernelspec": {
   "display_name": "Python 3",
   "language": "python",
   "name": "python3"
  },
  "language_info": {
   "codemirror_mode": {
    "name": "ipython",
    "version": 3
   },
   "file_extension": ".py",
   "mimetype": "text/x-python",
   "name": "python",
   "nbconvert_exporter": "python",
   "pygments_lexer": "ipython3",
   "version": "3.8.5"
  }
 },
 "nbformat": 4,
 "nbformat_minor": 4
}
